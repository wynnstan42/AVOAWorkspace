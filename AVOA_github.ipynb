{
 "cells": [
  {
   "cell_type": "code",
   "execution_count": 1,
   "outputs": [],
   "source": [
    "import random\n",
    "import time\n",
    "import numpy as np\n",
    "rng = np.random.default_rng()\n",
    "import math\n",
    "import sys\n",
    "from numpy import linalg as LA\n",
    "import numpy as np\n",
    "import math"
   ],
   "metadata": {
    "collapsed": false,
    "pycharm": {
     "name": "#%%\n"
    }
   }
  },
  {
   "cell_type": "code",
   "execution_count": 2,
   "outputs": [],
   "source": [
    "def fun(X):\n",
    "    output = sum(np.square(X))+random.random()\n",
    "    return output\n",
    "\n",
    "# This function is to initialize the Vulture population.\n",
    "def initial(pop, dim, ub, lb):\n",
    "    X = np.zeros([pop, dim])\n",
    "    for i in range(pop):\n",
    "        for j in range(dim):\n",
    "            X[i, j] = random.random()*(ub[j] - lb[j]) + lb[j]\n",
    "    return X\n",
    "\n",
    "# Calculate fitness values for each Vulture\n",
    "def CaculateFitness1(X,fun):\n",
    "    fitness = fun(X)\n",
    "    return fitness\n",
    "\n",
    "# Sort fitness.\n",
    "def SortFitness(Fit):\n",
    "    fitness = np.sort(Fit, axis=0)\n",
    "    index = np.argsort(Fit, axis=0)\n",
    "    return fitness,index\n",
    "\n",
    "\n",
    "# Sort the position of the Vulture according to fitness.\n",
    "def SortPosition(X,index):\n",
    "    Xnew = np.zeros(X.shape)\n",
    "    for i in range(X.shape[0]):\n",
    "        Xnew[i,:] = X[index[i],:]\n",
    "    return Xnew\n",
    "\n",
    "\n",
    "# Boundary detection function.\n",
    "def BorderCheck1(X,lb,ub,dim):\n",
    "        for j in range(dim):\n",
    "            if X[j]<lb[j]:\n",
    "                X[j] = ub[j]\n",
    "            elif X[j]>ub[j]:\n",
    "                X[j] = lb[j]\n",
    "        return X"
   ],
   "metadata": {
    "collapsed": false,
    "pycharm": {
     "name": "#%%\n"
    }
   }
  },
  {
   "cell_type": "code",
   "execution_count": 3,
   "outputs": [],
   "source": [
    "def rouletteWheelSelection(x):\n",
    "    CS  = np.cumsum(x)\n",
    "    Random_value = random.random()\n",
    "    index = np.where(Random_value <= CS)\n",
    "    index = sum(index)\n",
    "    return index"
   ],
   "metadata": {
    "collapsed": false,
    "pycharm": {
     "name": "#%%\n"
    }
   }
  },
  {
   "cell_type": "code",
   "execution_count": 4,
   "outputs": [],
   "source": [
    "def random_select(Pbest_Vulture_1,Pbest_Vulture_2,alpha,betha):\n",
    "    probabilities=[alpha, betha ]\n",
    "    index = rouletteWheelSelection( probabilities )\n",
    "    if ( index.all()> 0):\n",
    "            random_vulture_X=Pbest_Vulture_1\n",
    "    else:\n",
    "            random_vulture_X=Pbest_Vulture_2\n",
    "    return random_vulture_X"
   ],
   "metadata": {
    "collapsed": false,
    "pycharm": {
     "name": "#%%\n"
    }
   }
  },
  {
   "cell_type": "code",
   "execution_count": 5,
   "outputs": [],
   "source": [
    "def exploration(current_vulture_X, random_vulture_X, F, p1, upper_bound, lower_bound):\n",
    "    if random.random()<p1:\n",
    "        current_vulture_X=random_vulture_X-(abs((2*random.random())*random_vulture_X-current_vulture_X))*F\n",
    "    else:\n",
    "        current_vulture_X=(random_vulture_X-(F)+random.random()*((upper_bound-lower_bound)*random.random()+lower_bound))\n",
    "    return current_vulture_X"
   ],
   "metadata": {
    "collapsed": false,
    "pycharm": {
     "name": "#%%\n"
    }
   }
  },
  {
   "cell_type": "code",
   "execution_count": 6,
   "outputs": [],
   "source": [
    "def exploitation(current_vulture_X, Best_vulture1_X, Best_vulture2_X,random_vulture_X, F, p2, p3, variables_no, upper_bound, lower_bound):\n",
    "    if  abs(F)<0.5:\n",
    "\n",
    "        if random.random()<p2:\n",
    "            A=Best_vulture1_X-((np.multiply(Best_vulture1_X,current_vulture_X))/(Best_vulture1_X-current_vulture_X**2))*F\n",
    "            B=Best_vulture2_X-((Best_vulture2_X*current_vulture_X)/(Best_vulture2_X-current_vulture_X**2))*F\n",
    "            current_vulture_X=(A+B)/2\n",
    "        else:\n",
    "            current_vulture_X=random_vulture_X-abs(random_vulture_X-current_vulture_X)*F*levyFlight(variables_no)\n",
    "\n",
    "    if random.random()>=0.5:\n",
    "        if random.random()<p3:\n",
    "            current_vulture_X=(abs((2*random.random())*random_vulture_X-current_vulture_X))*(F+random.random())-(random_vulture_X-current_vulture_X)\n",
    "\n",
    "        else:\n",
    "            s1=random_vulture_X*(random.random()*current_vulture_X/(2*math.pi))*np.cos(current_vulture_X)\n",
    "            s2=random_vulture_X*(random.random()*current_vulture_X/(2*math.pi))*np.sin(current_vulture_X)\n",
    "            current_vulture_X=random_vulture_X-(s1+s2)\n",
    "    return current_vulture_X"
   ],
   "metadata": {
    "collapsed": false,
    "pycharm": {
     "name": "#%%\n"
    }
   }
  },
  {
   "cell_type": "code",
   "execution_count": 7,
   "outputs": [],
   "source": [
    "# eq (18)\n",
    "def levyFlight(d):\n",
    "    beta=3/2\n",
    "    sigma=(math.gamma(1+beta)*math.sin(math.pi*beta/2)/(math.gamma((1+beta)/2)*beta*2**((beta-1)/2)))**(1/beta)\n",
    "    u=np.random.randn(1,d)*sigma\n",
    "    v=np.random.randn(1,d)\n",
    "    step=u/abs(v)**(1/beta)\n",
    "    o=step\n",
    "    return o"
   ],
   "metadata": {
    "collapsed": false,
    "pycharm": {
     "name": "#%%\n"
    }
   }
  },
  {
   "cell_type": "code",
   "execution_count": 8,
   "outputs": [],
   "source": [
    "def AVA(pop,dim,lb,ub,Max_iter,fun):\n",
    "    alpha=0.8\n",
    "    betha=0.2\n",
    "    p1 = 0.6\n",
    "    p2 = 0.4\n",
    "    p3 = 0.6\n",
    "    Gama = 2.5\n",
    "    X = initial(pop, dim, lb,ub)                    # Initialize the random population\n",
    "    fitness = np.zeros([pop, 1])\n",
    "    for i in range(pop):\n",
    "      fitness[i] = CaculateFitness1(X[i, :], fun)\n",
    "    fitness, sortIndex = SortFitness(fitness)       # Sort the fitness values of African Vultures\n",
    "    X = SortPosition(X, sortIndex)                  # Sort the African Vultures population based on fitness\n",
    "    GbestScore = fitness[0]                         # Stores the optimal value for the current iteration.\n",
    "    GbestPositon = np.zeros([1, dim])\n",
    "    GbestPositon[0, :] = X[0, :]\n",
    "    Curve = np.zeros([Max_iter, 1])\n",
    "    Xnew = np.zeros([pop, dim])\n",
    "# Main iteration starts here\n",
    "    for t in range(Max_iter):\n",
    "      Pbest_Vulture_1  = X[0,:]                     #location of Vulture (First best location Best Vulture Category 1)\n",
    "      Pbest_Vulture_2  = X[1,:]                     #location of Vulture (Second best location Best Vulture Category 1)\n",
    "      t3=np.random.uniform(-2,2,1)*((np.sin((math.pi/2)*(t/Max_iter))**Gama)+np.cos((math.pi/2)*(t/Max_iter))-1)\n",
    "      z = random.randint(-1, 0)\n",
    "      #F= (2*random.random()+1)*z*(1-(t/Max_iter))+t3\n",
    "      P1=(2*random.random()+1)*(1-(t/Max_iter))+t3\n",
    "      F=P1*(2*random.random()-1)\n",
    "# For each vulture Pi\n",
    "      for i in range(pop):\n",
    "        current_vulture_X = X[i,:]\n",
    "        random_vulture_X=random_select(Pbest_Vulture_1,Pbest_Vulture_2,alpha,betha)   # select random vulture using eq(1)\n",
    "        if abs(F) >=1:\n",
    "          current_vulture_X = exploration(current_vulture_X, random_vulture_X, F, p1, ub, lb) # eq (16) & (17)\n",
    "\n",
    "        else:\n",
    "          current_vulture_X = exploitation(current_vulture_X, Pbest_Vulture_1, Pbest_Vulture_2, random_vulture_X, F, p2, p3, dim, ub, lb) # eq (10) & (13)\n",
    "\n",
    "        Xnew[i,:] = current_vulture_X[0]\n",
    "        Xnew[i,:] = BorderCheck1(Xnew[i,:], lb, ub, dim)\n",
    "        tempFitness = CaculateFitness1(Xnew[i,:], fun)\n",
    "# Update local best solution\n",
    "        if (tempFitness <= fitness[i]):\n",
    "            fitness[i] = tempFitness\n",
    "            X[i,:] = Xnew[i,:]\n",
    "      Ybest,index = SortFitness(fitness)\n",
    "      X = SortPosition(X, index)\n",
    "# Update global best solution\n",
    "      if (Ybest[0] <= GbestScore):\n",
    "        GbestScore = Ybest[0]\n",
    "        GbestPositon[0, :] = X[index[0], :]\n",
    "      #print(GbestPositon)\n",
    "      Curve[t] = GbestScore\n",
    "    return Curve,GbestPositon,GbestScore"
   ],
   "metadata": {
    "collapsed": false,
    "pycharm": {
     "name": "#%%\n"
    }
   }
  },
  {
   "cell_type": "code",
   "execution_count": 9,
   "outputs": [
    {
     "name": "stdout",
     "output_type": "stream",
     "text": [
      "The running time is: 0.08577156066894531 s\n",
      "The optimal value： [0.00554206]\n",
      "The optimal solution： [[0.00100565 0.00100565 0.00100565 0.00100565 0.00100565 0.00100565\n",
      "  0.00100565 0.00100565 0.00100565 0.00100565 0.00100565 0.00100565\n",
      "  0.00100565 0.00100565 0.00100565 0.00100565 0.00100565 0.00100565\n",
      "  0.00100565 0.00100565]]\n"
     ]
    }
   ],
   "source": [
    "rng = np.random.default_rng()\n",
    "time_start = time.time()\n",
    "pop = 2                     # Population size n\n",
    "MaxIter = 300               # Maximum number of iterations.\n",
    "dim = 20                    # The dimension.\n",
    "fl=-100                      # The lower bound of the search interval.\n",
    "ul=100                      # The upper bound of the search interval.\n",
    "lb = fl*np.ones([dim, 1])\n",
    "ub = ul*np.ones([dim, 1])\n",
    "Curve,GbestPositon,GbestScore = AVA(pop, dim, lb, ub, MaxIter, fun) # Afican Vulture Optimization Algorithm\n",
    "time_end = time.time()\n",
    "print(f\"The running time is: {time_end  - time_start } s\")\n",
    "print('The optimal value：',GbestScore)\n",
    "print('The optimal solution：',GbestPositon)"
   ],
   "metadata": {
    "collapsed": false,
    "pycharm": {
     "name": "#%%\n"
    }
   }
  },
  {
   "cell_type": "code",
   "execution_count": 10,
   "outputs": [
    {
     "data": {
      "text/plain": "<Figure size 640x480 with 1 Axes>",
      "image/png": "[encoded data removed]"
     },
     "metadata": {},
     "output_type": "display_data"
    }
   ],
   "source": [
    "import matplotlib.pyplot as plt\n",
    "fig, ax = plt.subplots()\n",
    "ax.plot( Curve,color='dodgerblue', marker='o', markeredgecolor='dodgerblue', markerfacecolor='dodgerblue')\n",
    "ax.set_xlabel('Number of Iterations',fontsize=15)\n",
    "ax.set_ylabel('Fitness',fontsize=15)\n",
    "ax.set_title('African Vulture Optimization')\n",
    "plt.savefig('image.jpg', format='jpg')\n",
    "plt.show()"
   ],
   "metadata": {
    "collapsed": false,
    "pycharm": {
     "name": "#%%\n"
    }
   }
  }
 ],
 "metadata": {
  "kernelspec": {
   "display_name": "Python 3",
   "language": "python",
   "name": "python3"
  },
  "language_info": {
   "codemirror_mode": {
    "name": "ipython",
    "version": 2
   },
   "file_extension": ".py",
   "mimetype": "text/x-python",
   "name": "python",
   "nbconvert_exporter": "python",
   "pygments_lexer": "ipython2",
   "version": "2.7.6"
  }
 },
 "nbformat": 4,
 "nbformat_minor": 0
}