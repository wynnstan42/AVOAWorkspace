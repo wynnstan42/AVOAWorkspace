{
 "cells": [
  {
   "cell_type": "code",
   "execution_count": 92,
   "outputs": [],
   "source": [
    "import random\n",
    "import time\n",
    "\n",
    "import numpy\n",
    "import numpy as np\n",
    "rng = np.random.default_rng()\n",
    "import math\n",
    "import sys\n",
    "from numpy import linalg as LA\n",
    "import numpy as np\n",
    "import math"
   ],
   "metadata": {
    "collapsed": false,
    "pycharm": {
     "name": "#%%\n"
    }
   }
  },
  {
   "cell_type": "markdown",
   "source": [
    "Unimodel benchmark functions."
   ],
   "metadata": {
    "collapsed": false
   }
  },
  {
   "cell_type": "code",
   "execution_count": 93,
   "outputs": [],
   "source": [
    "def F1(X):\n",
    "    output = sum(np.square(X))\n",
    "    return output\n",
    "\n",
    "def F2(X):\n",
    "    output = np.sum(np.abs(X))+np.prod(np.abs(X))\n",
    "    return output\n",
    "\n",
    "def F3(X):\n",
    "    output = sum(np.square(X[j]) for i in range(len(X)) for j in range(i+1))\n",
    "    return output\n",
    "\n",
    "def F4(X):\n",
    "    output = max(np.abs(X))\n",
    "    return output\n",
    "\n",
    "def F5(X):\n",
    "    output = sum(100*np.square(X[i+1]-np.square(X[i])) + np.square(X[i]-1) for i in range(len(X)-1))\n",
    "    return output\n",
    "\n",
    "def F6(X):\n",
    "    output = sum(np.square(abs(i+0.5)) for i in X)\n",
    "    return output\n",
    "\n",
    "def F7(X):\n",
    "    output = sum((i+1)*pow(X[i],4) for i in range(len(X))) + random.random()\n",
    "    return output"
   ],
   "metadata": {
    "collapsed": false
   }
  },
  {
   "cell_type": "markdown",
   "source": [
    "Multi-model benchmark functions"
   ],
   "metadata": {
    "collapsed": false
   }
  },
  {
   "cell_type": "code",
   "execution_count": 94,
   "outputs": [],
   "source": [
    "def F8(X):\n",
    "    output = sum(-(X*np.sin(np.sqrt(np.abs(X)))))\n",
    "    return output\n",
    "\n",
    "def F9(X):\n",
    "    output = 10*len(X) + sum(pow(X[i],len(X))-10*np.cos(2*np.pi*X[i]) for i in range(len(X)))\n",
    "    return output\n",
    "\n",
    "def F10(X):\n",
    "    output = -20*np.exp(-0.2*np.sqrt(1/len(X)*sum(np.square(X)))) - np.exp(1/len(X)*sum(np.cos(2*np.pi*X[i]) for i in range(len(X)))) + 20 + np.exp(1)\n",
    "    return output\n",
    "\n",
    "def F11(X):\n",
    "    output =1/4000*sum(np.square(X)) - np.prod([np.cos(a/(b+1)**(1/2)) for a,b in zip(X, list(range(len(X))))]) +1\n",
    "    return output\n",
    "\n",
    "def F12(X):  #TODO 怪怪的\n",
    "    a=10\n",
    "    k=100\n",
    "    m=4\n",
    "    pt1=0\n",
    "    for i in X:\n",
    "        if i>a:\n",
    "            pt1+=k*pow((i-1),m)\n",
    "        elif -a<=i<=a:\n",
    "            pt1+=0\n",
    "        else:\n",
    "            pt1+=k*pow((-i-1),m)\n",
    "    pt2=np.pi/len(X)*( 10*pow(np.sin(np.pi*(1+1/4*(X[0]+1))),2) + sum( pow((1+1/4*(X[i]+1)-1),2)*(1+10*pow(np.sin(np.pi*(1+1/4*(X[i+1]+1))),2)) for i in range(len(X)-1) ) + pow((1+1/4*(X[len(X)-1])),2) )\n",
    "    output = pt1+pt2\n",
    "    return output\n",
    "\n",
    "def F13(X): #TODO 這個也怪怪的\n",
    "    a=5\n",
    "    k=100\n",
    "    m=4\n",
    "    pt1=0\n",
    "    for i in X:\n",
    "        if i>a:\n",
    "            pt1+=k*pow((i-1),m)\n",
    "        elif -a<=i<=a:\n",
    "            pt1+=0\n",
    "        else:\n",
    "            pt1+=k*pow((-i-1),m)\n",
    "    pt2 = 0.1 * ( pow(np.sin(3*np.pi*(X[0])),2) + sum(pow(X[i]-1,2)*(1+pow(np.sin(3*np.pi*X[i]+1),2)) for i in range(len(X))) + pow(X[len(X)-1],2)*(1+pow(np.sin(2*np.pi*X[len(X)-1]),2)) )\n",
    "    return pt1+pt2"
   ],
   "metadata": {
    "collapsed": false
   }
  },
  {
   "cell_type": "code",
   "execution_count": 95,
   "outputs": [],
   "source": [
    "# test = [0]\n",
    "# test = [1,2,3]\n",
    "# print(F13(test))"
   ],
   "metadata": {
    "collapsed": false
   }
  },
  {
   "cell_type": "code",
   "execution_count": 96,
   "outputs": [],
   "source": [
    "# def fun(X):\n",
    "#     output = sum(np.square(X))+random.random()\n",
    "#     return output\n",
    "\n",
    "# This function is to initialize the Vulture population.\n",
    "def initial(pop, dim, ub, lb):\n",
    "    X = np.zeros([pop, dim])\n",
    "    for i in range(pop):\n",
    "        for j in range(dim):\n",
    "            X[i, j] = random.random()*(ub[j] - lb[j]) + lb[j]\n",
    "    return X\n",
    "\n",
    "# Calculate fitness values for each Vulture\n",
    "def CaculateFitness1(X,fun):\n",
    "    fitness = fun(X)\n",
    "    return fitness\n",
    "\n",
    "# Sort fitness.\n",
    "def SortFitness(Fit):\n",
    "    fitness = np.sort(Fit, axis=0)\n",
    "    index = np.argsort(Fit, axis=0)\n",
    "    return fitness,index\n",
    "\n",
    "\n",
    "# Sort the position of the Vulture according to fitness.\n",
    "def SortPosition(X,index):\n",
    "    Xnew = np.zeros(X.shape)\n",
    "    for i in range(X.shape[0]):\n",
    "        Xnew[i,:] = X[index[i],:]\n",
    "    return Xnew\n",
    "\n",
    "\n",
    "# Boundary detection function.\n",
    "def BorderCheck1(X,lb,ub,dim):\n",
    "        for j in range(dim):\n",
    "            if X[j]<lb[j]:\n",
    "                X[j] = ub[j]\n",
    "            elif X[j]>ub[j]:\n",
    "                X[j] = lb[j]\n",
    "        return X"
   ],
   "metadata": {
    "collapsed": false
   }
  },
  {
   "cell_type": "code",
   "execution_count": 97,
   "outputs": [],
   "source": [
    "def rouletteWheelSelection(x):\n",
    "    CS  = np.cumsum(x)\n",
    "    Random_value = random.random()\n",
    "    index = np.where(Random_value <= CS)\n",
    "    index = sum(index)\n",
    "    return index"
   ],
   "metadata": {
    "collapsed": false,
    "pycharm": {
     "name": "#%%\n"
    }
   }
  },
  {
   "cell_type": "code",
   "execution_count": 98,
   "outputs": [],
   "source": [
    "def random_select(Pbest_Vulture_1,Pbest_Vulture_2,alpha,betha):\n",
    "    probabilities=[alpha, betha ]\n",
    "    index = rouletteWheelSelection( probabilities )\n",
    "    if ( index.all()> 0):\n",
    "            random_vulture_X=Pbest_Vulture_1\n",
    "    else:\n",
    "            random_vulture_X=Pbest_Vulture_2\n",
    "    return random_vulture_X"
   ],
   "metadata": {
    "collapsed": false,
    "pycharm": {
     "name": "#%%\n"
    }
   }
  },
  {
   "cell_type": "code",
   "execution_count": 99,
   "outputs": [],
   "source": [
    "def exploration(current_vulture_X, random_vulture_X, F, p1, upper_bound, lower_bound):\n",
    "    if random.random()<p1:\n",
    "        current_vulture_X=random_vulture_X-(abs((2*random.random())*random_vulture_X-current_vulture_X))*F\n",
    "    else:\n",
    "        current_vulture_X=(random_vulture_X-(F)+random.random()*((upper_bound-lower_bound)*random.random()+lower_bound))\n",
    "    return current_vulture_X"
   ],
   "metadata": {
    "collapsed": false,
    "pycharm": {
     "name": "#%%\n"
    }
   }
  },
  {
   "cell_type": "code",
   "execution_count": 100,
   "outputs": [],
   "source": [
    "def exploitation(current_vulture_X, Best_vulture1_X, Best_vulture2_X,random_vulture_X, F, p2, p3, variables_no, upper_bound, lower_bound):\n",
    "    if  abs(F)<0.5:\n",
    "\n",
    "        if random.random()<p2:\n",
    "            A=Best_vulture1_X-((np.multiply(Best_vulture1_X,current_vulture_X))/(Best_vulture1_X-current_vulture_X**2))*F\n",
    "            B=Best_vulture2_X-((Best_vulture2_X*current_vulture_X)/(Best_vulture2_X-current_vulture_X**2))*F\n",
    "            current_vulture_X=(A+B)/2\n",
    "        else:\n",
    "            current_vulture_X=random_vulture_X-abs(random_vulture_X-current_vulture_X)*F*levyFlight(variables_no)\n",
    "\n",
    "    if random.random()>=0.5:\n",
    "        if random.random()<p3:\n",
    "            current_vulture_X=(abs((2*random.random())*random_vulture_X-current_vulture_X))*(F+random.random())-(random_vulture_X-current_vulture_X)\n",
    "\n",
    "        else:\n",
    "            s1=random_vulture_X*(random.random()*current_vulture_X/(2*math.pi))*np.cos(current_vulture_X)\n",
    "            s2=random_vulture_X*(random.random()*current_vulture_X/(2*math.pi))*np.sin(current_vulture_X)\n",
    "            current_vulture_X=random_vulture_X-(s1+s2)\n",
    "    return current_vulture_X"
   ],
   "metadata": {
    "collapsed": false,
    "pycharm": {
     "name": "#%%\n"
    }
   }
  },
  {
   "cell_type": "code",
   "execution_count": 101,
   "outputs": [],
   "source": [
    "# eq (18)\n",
    "def levyFlight(d):\n",
    "    beta=3/2\n",
    "    sigma=(math.gamma(1+beta)*math.sin(math.pi*beta/2)/(math.gamma((1+beta)/2)*beta*2**((beta-1)/2)))**(1/beta)\n",
    "    u=np.random.randn(1,d)*sigma\n",
    "    v=np.random.randn(1,d)\n",
    "    step=u/abs(v)**(1/beta)\n",
    "    o=step\n",
    "    return o"
   ],
   "metadata": {
    "collapsed": false,
    "pycharm": {
     "name": "#%%\n"
    }
   }
  },
  {
   "cell_type": "code",
   "execution_count": 102,
   "outputs": [],
   "source": [
    "def AVA(pop,dim,lb,ub,Max_iter,fun):\n",
    "    alpha=0.8\n",
    "    betha=0.2\n",
    "    p1 = 0.6\n",
    "    p2 = 0.4\n",
    "    p3 = 0.6\n",
    "    Gama = 2.5\n",
    "    X = initial(pop, dim, lb,ub)                    # Initialize the random population\n",
    "    fitness = np.zeros([pop, 1])\n",
    "    for i in range(pop):\n",
    "      fitness[i] = CaculateFitness1(X[i, :], fun)\n",
    "    fitness, sortIndex = SortFitness(fitness)       # Sort the fitness values of African Vultures\n",
    "    X = SortPosition(X, sortIndex)                  # Sort the African Vultures population based on fitness\n",
    "    GbestScore = fitness[0]                         # Stores the optimal value for the current iteration.\n",
    "    GbestPositon = np.zeros([1, dim])\n",
    "    GbestPositon[0, :] = X[0, :]\n",
    "    Curve = np.zeros([Max_iter, 1])\n",
    "    Xnew = np.zeros([pop, dim])\n",
    "# Main iteration starts here\n",
    "    for t in range(Max_iter):\n",
    "      Pbest_Vulture_1  = X[0,:]                     #location of Vulture (First best location Best Vulture Category 1)\n",
    "      Pbest_Vulture_2  = X[1,:]                     #location of Vulture (Second best location Best Vulture Category 1)\n",
    "      t3=np.random.uniform(-2,2,1)*((np.sin((math.pi/2)*(t/Max_iter))**Gama)+np.cos((math.pi/2)*(t/Max_iter))-1)\n",
    "      z = random.randint(-1, 0)\n",
    "      #F= (2*random.random()+1)*z*(1-(t/Max_iter))+t3\n",
    "      P1=(2*random.random()+1)*(1-(t/Max_iter))+t3\n",
    "      F=P1*(2*random.random()-1)\n",
    "# For each vulture Pi\n",
    "      for i in range(pop):\n",
    "        current_vulture_X = X[i,:]\n",
    "        random_vulture_X=random_select(Pbest_Vulture_1,Pbest_Vulture_2,alpha,betha)   # select random vulture using eq(1)\n",
    "        if abs(F) >=1:\n",
    "          current_vulture_X = exploration(current_vulture_X, random_vulture_X, F, p1, ub, lb) # eq (16) & (17)\n",
    "\n",
    "        else:\n",
    "          current_vulture_X = exploitation(current_vulture_X, Pbest_Vulture_1, Pbest_Vulture_2, random_vulture_X, F, p2, p3, dim, ub, lb) # eq (10) & (13)\n",
    "\n",
    "        Xnew[i,:] = current_vulture_X[0]\n",
    "        Xnew[i,:] = BorderCheck1(Xnew[i,:], lb, ub, dim)\n",
    "        tempFitness = CaculateFitness1(Xnew[i,:], fun)\n",
    "# Update local best solution\n",
    "        if (tempFitness <= fitness[i]):\n",
    "            fitness[i] = tempFitness\n",
    "            X[i,:] = Xnew[i,:]\n",
    "      Ybest,index = SortFitness(fitness)\n",
    "      X = SortPosition(X, index)\n",
    "# Update global best solution\n",
    "      if (Ybest[0] <= GbestScore):\n",
    "        GbestScore = Ybest[0]\n",
    "        GbestPositon[0, :] = X[index[0], :]\n",
    "      #print(GbestPositon)\n",
    "      Curve[t] = GbestScore\n",
    "    return Curve,GbestPositon,GbestScore"
   ],
   "metadata": {
    "collapsed": false,
    "pycharm": {
     "name": "#%%\n"
    }
   }
  },
  {
   "cell_type": "code",
   "execution_count": 103,
   "outputs": [
    {
     "name": "stdout",
     "output_type": "stream",
     "text": [
      "The running time is: 0.9540038108825684 s\n",
      "The optimal value： [0.05396034]\n",
      "The optimal solution： [[1.00375598 1.00503426 0.97856437 0.96939005 0.99071298 1.01243414\n",
      "  1.0510651  1.00314135 1.00103157 0.9938064  0.99546806 0.99164066\n",
      "  0.97286806 0.99292605 0.98742447 0.99180816 0.98793057 0.98222105\n",
      "  0.99553381 0.95445388 0.98858985 0.99409835 0.99264165 0.96901093\n",
      "  1.00091596 0.97751237 0.99604021 0.99336062 0.98610911 0.56942451]]\n"
     ]
    }
   ],
   "source": [
    "def fun(X):\n",
    "    return F13(X)\n",
    "rng = np.random.default_rng()\n",
    "time_start = time.time()\n",
    "pop = 50  # Population size n\n",
    "MaxIter = 100  # Maximum number of iterations.\n",
    "dim = 30  # The dimension.\n",
    "fl=-50  # The lower bound of the search interval.\n",
    "ul=50  # The upper bound of the search interval.\n",
    "lb = fl*np.ones([dim, 1])\n",
    "ub = ul*np.ones([dim, 1])\n",
    "Curve,GbestPositon,GbestScore = AVA(pop, dim, lb, ub, MaxIter, fun) # Afican Vulture Optimization Algorithm\n",
    "time_end = time.time()\n",
    "print(f\"The running time is: {time_end  - time_start } s\")\n",
    "print('The optimal value：',GbestScore)\n",
    "print('The optimal solution：',GbestPositon)"
   ],
   "metadata": {
    "collapsed": false
   }
  },
  {
   "cell_type": "code",
   "execution_count": 104,
   "outputs": [
    {
     "data": {
      "text/plain": "<Figure size 640x480 with 1 Axes>",
      "image/png": "[encoded data removed]"
     },
     "metadata": {},
     "output_type": "display_data"
    }
   ],
   "source": [
    "import matplotlib.pyplot as plt\n",
    "fig, ax = plt.subplots()\n",
    "ax.plot( Curve,color='dodgerblue', marker='o', markeredgecolor='dodgerblue', markerfacecolor='dodgerblue')\n",
    "ax.set_xlabel('Number of Iterations',fontsize=15)\n",
    "ax.set_ylabel('Fitness',fontsize=15)\n",
    "ax.set_title('African Vulture Optimization')\n",
    "plt.savefig('image.jpg', format='jpg')\n",
    "plt.show()"
   ],
   "metadata": {
    "collapsed": false,
    "pycharm": {
     "name": "#%%\n"
    }
   }
  }
 ],
 "metadata": {
  "kernelspec": {
   "display_name": "Python 3",
   "language": "python",
   "name": "python3"
  },
  "language_info": {
   "codemirror_mode": {
    "name": "ipython",
    "version": 2
   },
   "file_extension": ".py",
   "mimetype": "text/x-python",
   "name": "python",
   "nbconvert_exporter": "python",
   "pygments_lexer": "ipython2",
   "version": "2.7.6"
  }
 },
 "nbformat": 4,
 "nbformat_minor": 0
}
